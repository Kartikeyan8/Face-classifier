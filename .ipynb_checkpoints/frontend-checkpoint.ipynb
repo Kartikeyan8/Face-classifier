{
 "cells": [
  {
   "cell_type": "code",
   "execution_count": 21,
   "id": "60eb0002",
   "metadata": {},
   "outputs": [],
   "source": [
    "from PIL import Image\n",
    "import cv2\n",
    "from keras.applications.vgg16 import preprocess_input\n",
    "import base64\n",
    "from keras.models import load_model\n",
    "from keras.preprocessing import image\n",
    "import numpy as np"
   ]
  },
  {
   "cell_type": "code",
   "execution_count": 22,
   "id": "47c3d3b1",
   "metadata": {},
   "outputs": [],
   "source": [
    "model=load_model('facefeature.h5')\n",
    "face_cascade=cv2.CascadeClassifier('haarcascade_frontalface_default.xml')\n"
   ]
  },
  {
   "cell_type": "code",
   "execution_count": null,
   "id": "693dbf9c",
   "metadata": {
    "scrolled": false
   },
   "outputs": [],
   "source": [
    "def face_extractor(img):\n",
    "    faces=face_cascade.detectMultiScale(img,1.3,5)\n",
    "    if faces is ():\n",
    "        return None\n",
    "    for(x,y,w,h) in faces:\n",
    "        cv2.rectangle(img,(x,y),(x+w,x+h),(0,0,255),2)\n",
    "        cropped_face=img[y:y+h,x:x+w]\n",
    "    return cropped_face\n",
    "\n",
    "video_capture=cv2.VideoCapture(0)\n",
    "\n",
    "while True:\n",
    "    _,frame=video_capture.read()\n",
    "    face=face_extractor(frame)\n",
    "    \n",
    "    if (type(face) is np.ndarray):\n",
    "        face=cv2.resize(face,(224,224))\n",
    "        im=Image.fromarray(face,'RGB')\n",
    "        img_array=np.array(im)\n",
    "        img_array=np.expand_dims(img_array,axis=0)\n",
    "        pred=model.predict(img_array)\n",
    "        name=\"koi aur\"\n",
    "        print(pred)\n",
    "\n",
    "        \n",
    "        "
   ]
  },
  {
   "cell_type": "code",
   "execution_count": null,
   "id": "f77acf8f",
   "metadata": {},
   "outputs": [],
   "source": []
  }
 ],
 "metadata": {
  "kernelspec": {
   "display_name": "Python 3",
   "language": "python",
   "name": "python3"
  },
  "language_info": {
   "codemirror_mode": {
    "name": "ipython",
    "version": 3
   },
   "file_extension": ".py",
   "mimetype": "text/x-python",
   "name": "python",
   "nbconvert_exporter": "python",
   "pygments_lexer": "ipython3",
   "version": "3.9.7"
  }
 },
 "nbformat": 4,
 "nbformat_minor": 5
}
